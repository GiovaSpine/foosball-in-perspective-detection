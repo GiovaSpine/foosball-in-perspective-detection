{
 "cells": [
  {
   "cell_type": "markdown",
   "id": "3a25f197",
   "metadata": {},
   "source": [
    "# Labels Profiling\n",
    "This notebook shows a preliminary exploration of the labels, to see if there are any imbalances of visibilities, bounding boxes's area, etc..."
   ]
  }
 ],
 "metadata": {
  "language_info": {
   "name": "python"
  }
 },
 "nbformat": 4,
 "nbformat_minor": 5
}
